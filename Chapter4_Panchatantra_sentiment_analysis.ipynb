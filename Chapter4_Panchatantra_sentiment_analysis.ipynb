{
  "cells": [
    {
      "cell_type": "markdown",
      "metadata": {
        "id": "view-in-github",
        "colab_type": "text"
      },
      "source": [
        "<a href=\"https://colab.research.google.com/github/jayeshsc/18CSE301J_RA2011028010094/blob/main/Chapter4_Panchatantra_sentiment_analysis.ipynb\" target=\"_parent\"><img src=\"https://colab.research.google.com/assets/colab-badge.svg\" alt=\"Open In Colab\"/></a>"
      ]
    },
    {
      "cell_type": "code",
      "execution_count": 7,
      "metadata": {
        "colab": {
          "base_uri": "https://localhost:8080/"
        },
        "id": "sWA16Zld7dVx",
        "outputId": "061ea77c-b360-4bb9-9ad2-0ef45fce1871"
      },
      "outputs": [
        {
          "output_type": "stream",
          "name": "stderr",
          "text": [
            "[nltk_data] Downloading package stopwords to /root/nltk_data...\n",
            "[nltk_data]   Package stopwords is already up-to-date!\n",
            "[nltk_data] Downloading package punkt to /root/nltk_data...\n",
            "[nltk_data]   Unzipping tokenizers/punkt.zip.\n"
          ]
        }
      ],
      "source": [
        "import pandas as pd\n",
        "import numpy as np\n",
        "\n",
        "import nltk\n",
        "nltk.download('stopwords')\n",
        "nltk.download('punkt')\n",
        "from nltk import sent_tokenize\n",
        "from nltk import word_tokenize\n",
        "from nltk.stem import PorterStemmer\n",
        "from nltk import word_tokenize\n",
        "from nltk.corpus import stopwords\n",
        "\n",
        "stopwords = set(stopwords.words('english'))\n",
        "\n",
        "import string\n",
        "\n",
        "import matplotlib.pyplot as plt\n",
        "import matplotlib\n",
        "%matplotlib inline\n",
        "\n",
        "import seaborn as sns"
      ]
    },
    {
      "cell_type": "code",
      "execution_count": 8,
      "metadata": {
        "id": "HD0IyKb07dVy"
      },
      "outputs": [],
      "source": [
        "df = pd.read_excel(\"Panchatantra_Data.xlsx\")"
      ]
    },
    {
      "cell_type": "code",
      "execution_count": 9,
      "metadata": {
        "id": "U7DNXMLi7dVy"
      },
      "outputs": [],
      "source": [
        "def remove_punctuations(text):\n",
        "    for punctuation in string.punctuation:\n",
        "        text = text.replace(punctuation, '')\n",
        "    return text"
      ]
    },
    {
      "cell_type": "code",
      "execution_count": 10,
      "metadata": {
        "colab": {
          "base_uri": "https://localhost:8080/",
          "height": 250
        },
        "id": "tnRjfZyL7dVz",
        "outputId": "ba3ee3c2-44b7-4779-849c-8a5bb534d13b"
      },
      "outputs": [
        {
          "output_type": "execute_result",
          "data": {
            "text/plain": [
              "                             Title  Chapter  \\\n",
              "0        The Separation of Friends        1   \n",
              "1         The Monkey and the Wedge        2   \n",
              "2          The Jackal and the Drum        3   \n",
              "3  The Fall and Rise of a Merchant        4   \n",
              "4  The Foolish Sage and the Jackal        5   \n",
              "\n",
              "                                               Story  \\\n",
              "0  Long ago in a village in South India, there li...   \n",
              "1  Once a merchant began building a temple in his...   \n",
              "2  A hungry jackal ended up at an abandoned battl...   \n",
              "3  Once, there lived a wealthy merchant named Dan...   \n",
              "4  There lived a sage named Deva Sharma in a mona...   \n",
              "\n",
              "                                 Strategy  BookNumber  \n",
              "0  Mitra-bheda: The Separation of Friends           1  \n",
              "1  Mitra-bheda: The Separation of Friends           1  \n",
              "2  Mitra-bheda: The Separation of Friends           1  \n",
              "3  Mitra-bheda: The Separation of Friends           1  \n",
              "4  Mitra-bheda: The Separation of Friends           1  "
            ],
            "text/html": [
              "\n",
              "  <div id=\"df-43a1859d-bb14-4976-94bf-5bd3c5361abd\">\n",
              "    <div class=\"colab-df-container\">\n",
              "      <div>\n",
              "<style scoped>\n",
              "    .dataframe tbody tr th:only-of-type {\n",
              "        vertical-align: middle;\n",
              "    }\n",
              "\n",
              "    .dataframe tbody tr th {\n",
              "        vertical-align: top;\n",
              "    }\n",
              "\n",
              "    .dataframe thead th {\n",
              "        text-align: right;\n",
              "    }\n",
              "</style>\n",
              "<table border=\"1\" class=\"dataframe\">\n",
              "  <thead>\n",
              "    <tr style=\"text-align: right;\">\n",
              "      <th></th>\n",
              "      <th>Title</th>\n",
              "      <th>Chapter</th>\n",
              "      <th>Story</th>\n",
              "      <th>Strategy</th>\n",
              "      <th>BookNumber</th>\n",
              "    </tr>\n",
              "  </thead>\n",
              "  <tbody>\n",
              "    <tr>\n",
              "      <th>0</th>\n",
              "      <td>The Separation of Friends</td>\n",
              "      <td>1</td>\n",
              "      <td>Long ago in a village in South India, there li...</td>\n",
              "      <td>Mitra-bheda: The Separation of Friends</td>\n",
              "      <td>1</td>\n",
              "    </tr>\n",
              "    <tr>\n",
              "      <th>1</th>\n",
              "      <td>The Monkey and the Wedge</td>\n",
              "      <td>2</td>\n",
              "      <td>Once a merchant began building a temple in his...</td>\n",
              "      <td>Mitra-bheda: The Separation of Friends</td>\n",
              "      <td>1</td>\n",
              "    </tr>\n",
              "    <tr>\n",
              "      <th>2</th>\n",
              "      <td>The Jackal and the Drum</td>\n",
              "      <td>3</td>\n",
              "      <td>A hungry jackal ended up at an abandoned battl...</td>\n",
              "      <td>Mitra-bheda: The Separation of Friends</td>\n",
              "      <td>1</td>\n",
              "    </tr>\n",
              "    <tr>\n",
              "      <th>3</th>\n",
              "      <td>The Fall and Rise of a Merchant</td>\n",
              "      <td>4</td>\n",
              "      <td>Once, there lived a wealthy merchant named Dan...</td>\n",
              "      <td>Mitra-bheda: The Separation of Friends</td>\n",
              "      <td>1</td>\n",
              "    </tr>\n",
              "    <tr>\n",
              "      <th>4</th>\n",
              "      <td>The Foolish Sage and the Jackal</td>\n",
              "      <td>5</td>\n",
              "      <td>There lived a sage named Deva Sharma in a mona...</td>\n",
              "      <td>Mitra-bheda: The Separation of Friends</td>\n",
              "      <td>1</td>\n",
              "    </tr>\n",
              "  </tbody>\n",
              "</table>\n",
              "</div>\n",
              "      <button class=\"colab-df-convert\" onclick=\"convertToInteractive('df-43a1859d-bb14-4976-94bf-5bd3c5361abd')\"\n",
              "              title=\"Convert this dataframe to an interactive table.\"\n",
              "              style=\"display:none;\">\n",
              "        \n",
              "  <svg xmlns=\"http://www.w3.org/2000/svg\" height=\"24px\"viewBox=\"0 0 24 24\"\n",
              "       width=\"24px\">\n",
              "    <path d=\"M0 0h24v24H0V0z\" fill=\"none\"/>\n",
              "    <path d=\"M18.56 5.44l.94 2.06.94-2.06 2.06-.94-2.06-.94-.94-2.06-.94 2.06-2.06.94zm-11 1L8.5 8.5l.94-2.06 2.06-.94-2.06-.94L8.5 2.5l-.94 2.06-2.06.94zm10 10l.94 2.06.94-2.06 2.06-.94-2.06-.94-.94-2.06-.94 2.06-2.06.94z\"/><path d=\"M17.41 7.96l-1.37-1.37c-.4-.4-.92-.59-1.43-.59-.52 0-1.04.2-1.43.59L10.3 9.45l-7.72 7.72c-.78.78-.78 2.05 0 2.83L4 21.41c.39.39.9.59 1.41.59.51 0 1.02-.2 1.41-.59l7.78-7.78 2.81-2.81c.8-.78.8-2.07 0-2.86zM5.41 20L4 18.59l7.72-7.72 1.47 1.35L5.41 20z\"/>\n",
              "  </svg>\n",
              "      </button>\n",
              "      \n",
              "  <style>\n",
              "    .colab-df-container {\n",
              "      display:flex;\n",
              "      flex-wrap:wrap;\n",
              "      gap: 12px;\n",
              "    }\n",
              "\n",
              "    .colab-df-convert {\n",
              "      background-color: #E8F0FE;\n",
              "      border: none;\n",
              "      border-radius: 50%;\n",
              "      cursor: pointer;\n",
              "      display: none;\n",
              "      fill: #1967D2;\n",
              "      height: 32px;\n",
              "      padding: 0 0 0 0;\n",
              "      width: 32px;\n",
              "    }\n",
              "\n",
              "    .colab-df-convert:hover {\n",
              "      background-color: #E2EBFA;\n",
              "      box-shadow: 0px 1px 2px rgba(60, 64, 67, 0.3), 0px 1px 3px 1px rgba(60, 64, 67, 0.15);\n",
              "      fill: #174EA6;\n",
              "    }\n",
              "\n",
              "    [theme=dark] .colab-df-convert {\n",
              "      background-color: #3B4455;\n",
              "      fill: #D2E3FC;\n",
              "    }\n",
              "\n",
              "    [theme=dark] .colab-df-convert:hover {\n",
              "      background-color: #434B5C;\n",
              "      box-shadow: 0px 1px 3px 1px rgba(0, 0, 0, 0.15);\n",
              "      filter: drop-shadow(0px 1px 2px rgba(0, 0, 0, 0.3));\n",
              "      fill: #FFFFFF;\n",
              "    }\n",
              "  </style>\n",
              "\n",
              "      <script>\n",
              "        const buttonEl =\n",
              "          document.querySelector('#df-43a1859d-bb14-4976-94bf-5bd3c5361abd button.colab-df-convert');\n",
              "        buttonEl.style.display =\n",
              "          google.colab.kernel.accessAllowed ? 'block' : 'none';\n",
              "\n",
              "        async function convertToInteractive(key) {\n",
              "          const element = document.querySelector('#df-43a1859d-bb14-4976-94bf-5bd3c5361abd');\n",
              "          const dataTable =\n",
              "            await google.colab.kernel.invokeFunction('convertToInteractive',\n",
              "                                                     [key], {});\n",
              "          if (!dataTable) return;\n",
              "\n",
              "          const docLinkHtml = 'Like what you see? Visit the ' +\n",
              "            '<a target=\"_blank\" href=https://colab.research.google.com/notebooks/data_table.ipynb>data table notebook</a>'\n",
              "            + ' to learn more about interactive tables.';\n",
              "          element.innerHTML = '';\n",
              "          dataTable['output_type'] = 'display_data';\n",
              "          await google.colab.output.renderOutput(dataTable, element);\n",
              "          const docLink = document.createElement('div');\n",
              "          docLink.innerHTML = docLinkHtml;\n",
              "          element.appendChild(docLink);\n",
              "        }\n",
              "      </script>\n",
              "    </div>\n",
              "  </div>\n",
              "  "
            ]
          },
          "metadata": {},
          "execution_count": 10
        }
      ],
      "source": [
        "df.head()"
      ]
    },
    {
      "cell_type": "code",
      "execution_count": 11,
      "metadata": {
        "id": "caQ6q4ry7dVz"
      },
      "outputs": [],
      "source": [
        "#Remove punctuation\n",
        "stopwords = [''.join(item for item in x if item not in string.punctuation) for x in stopwords] \n",
        "\n",
        "df['WordCountText']=df['Story'].str.lower().apply(remove_punctuations).apply(word_tokenize)\n",
        "# Word Count\n",
        "df['WordCloudText']=df['WordCountText'].apply(lambda x: [word for word in x if word not in stopwords]) \n",
        "df['WordCount'] = df['WordCountText'].str.len()"
      ]
    },
    {
      "cell_type": "code",
      "execution_count": 12,
      "metadata": {
        "id": "v0bpyFB97dVz"
      },
      "outputs": [],
      "source": [
        "# Creating a table breaking down the text by each sentence\n",
        "\n",
        "dfsentiment = df[['Story', 'BookNumber', 'Chapter']].reset_index() \\\n",
        "    .drop([\"index\"], axis=1)\n",
        "dfsentiment = dfsentiment.join(dfsentiment.Story.apply(sent_tokenize).rename('Sentences')) \n",
        "\n",
        "dfsentiment2 = dfsentiment.Sentences.apply(pd.Series) \\\n",
        "    .merge(dfsentiment, left_index = True, right_index = True) \\\n",
        "    .drop([\"Story\"], axis = 1) \\\n",
        "    .drop([\"Sentences\"], axis = 1) \\\n",
        "    .melt(id_vars = ['Chapter', 'BookNumber'], value_name = \"Sentence\") \\\n",
        "    .drop(\"variable\", axis = 1) \\\n",
        "    .dropna()\n",
        "\n",
        "dfsentiment2=dfsentiment2.sort_values(by=['Chapter', 'BookNumber']) \\\n",
        "    .reset_index() \\\n",
        "    .drop(['index'], axis = 1)\n",
        "\n",
        "dfsentiment2['Sentence']=dfsentiment2.Sentence.apply(remove_punctuations).apply(lambda x: x.lower()) "
      ]
    },
    {
      "cell_type": "code",
      "execution_count": 13,
      "metadata": {
        "colab": {
          "base_uri": "https://localhost:8080/",
          "height": 424
        },
        "id": "9XwEAJ6k7dV0",
        "outputId": "0b05bd4e-e4e8-4c8a-bf08-2e062b0b37e6"
      },
      "outputs": [
        {
          "output_type": "execute_result",
          "data": {
            "text/plain": [
              "      Chapter  BookNumber                                           Sentence\n",
              "0           1           1  long ago in a village in south india there liv...\n",
              "1           1           1  one day while resting on his bed he realized t...\n",
              "2           1           1  he convinced himself that even enemies seek th...\n",
              "3           1           1  money makes the old become young while even th...\n",
              "4           1           1  he logically thought that business was one of ...\n",
              "...       ...         ...                                                ...\n",
              "3531       22           1  there is no point in fearing death because it ...\n",
              "3532       22           1                               one cannot escape it\n",
              "3533       22           1  with these thoughts on his mind the brahmin th...\n",
              "3534       22           1  the thugs accepted the offer and found nothing...\n",
              "3535       22           1  they let go the other four brahmins thinking t...\n",
              "\n",
              "[3536 rows x 3 columns]"
            ],
            "text/html": [
              "\n",
              "  <div id=\"df-54548cf3-9db5-42df-8f4f-a6320a99a976\">\n",
              "    <div class=\"colab-df-container\">\n",
              "      <div>\n",
              "<style scoped>\n",
              "    .dataframe tbody tr th:only-of-type {\n",
              "        vertical-align: middle;\n",
              "    }\n",
              "\n",
              "    .dataframe tbody tr th {\n",
              "        vertical-align: top;\n",
              "    }\n",
              "\n",
              "    .dataframe thead th {\n",
              "        text-align: right;\n",
              "    }\n",
              "</style>\n",
              "<table border=\"1\" class=\"dataframe\">\n",
              "  <thead>\n",
              "    <tr style=\"text-align: right;\">\n",
              "      <th></th>\n",
              "      <th>Chapter</th>\n",
              "      <th>BookNumber</th>\n",
              "      <th>Sentence</th>\n",
              "    </tr>\n",
              "  </thead>\n",
              "  <tbody>\n",
              "    <tr>\n",
              "      <th>0</th>\n",
              "      <td>1</td>\n",
              "      <td>1</td>\n",
              "      <td>long ago in a village in south india there liv...</td>\n",
              "    </tr>\n",
              "    <tr>\n",
              "      <th>1</th>\n",
              "      <td>1</td>\n",
              "      <td>1</td>\n",
              "      <td>one day while resting on his bed he realized t...</td>\n",
              "    </tr>\n",
              "    <tr>\n",
              "      <th>2</th>\n",
              "      <td>1</td>\n",
              "      <td>1</td>\n",
              "      <td>he convinced himself that even enemies seek th...</td>\n",
              "    </tr>\n",
              "    <tr>\n",
              "      <th>3</th>\n",
              "      <td>1</td>\n",
              "      <td>1</td>\n",
              "      <td>money makes the old become young while even th...</td>\n",
              "    </tr>\n",
              "    <tr>\n",
              "      <th>4</th>\n",
              "      <td>1</td>\n",
              "      <td>1</td>\n",
              "      <td>he logically thought that business was one of ...</td>\n",
              "    </tr>\n",
              "    <tr>\n",
              "      <th>...</th>\n",
              "      <td>...</td>\n",
              "      <td>...</td>\n",
              "      <td>...</td>\n",
              "    </tr>\n",
              "    <tr>\n",
              "      <th>3531</th>\n",
              "      <td>22</td>\n",
              "      <td>1</td>\n",
              "      <td>there is no point in fearing death because it ...</td>\n",
              "    </tr>\n",
              "    <tr>\n",
              "      <th>3532</th>\n",
              "      <td>22</td>\n",
              "      <td>1</td>\n",
              "      <td>one cannot escape it</td>\n",
              "    </tr>\n",
              "    <tr>\n",
              "      <th>3533</th>\n",
              "      <td>22</td>\n",
              "      <td>1</td>\n",
              "      <td>with these thoughts on his mind the brahmin th...</td>\n",
              "    </tr>\n",
              "    <tr>\n",
              "      <th>3534</th>\n",
              "      <td>22</td>\n",
              "      <td>1</td>\n",
              "      <td>the thugs accepted the offer and found nothing...</td>\n",
              "    </tr>\n",
              "    <tr>\n",
              "      <th>3535</th>\n",
              "      <td>22</td>\n",
              "      <td>1</td>\n",
              "      <td>they let go the other four brahmins thinking t...</td>\n",
              "    </tr>\n",
              "  </tbody>\n",
              "</table>\n",
              "<p>3536 rows × 3 columns</p>\n",
              "</div>\n",
              "      <button class=\"colab-df-convert\" onclick=\"convertToInteractive('df-54548cf3-9db5-42df-8f4f-a6320a99a976')\"\n",
              "              title=\"Convert this dataframe to an interactive table.\"\n",
              "              style=\"display:none;\">\n",
              "        \n",
              "  <svg xmlns=\"http://www.w3.org/2000/svg\" height=\"24px\"viewBox=\"0 0 24 24\"\n",
              "       width=\"24px\">\n",
              "    <path d=\"M0 0h24v24H0V0z\" fill=\"none\"/>\n",
              "    <path d=\"M18.56 5.44l.94 2.06.94-2.06 2.06-.94-2.06-.94-.94-2.06-.94 2.06-2.06.94zm-11 1L8.5 8.5l.94-2.06 2.06-.94-2.06-.94L8.5 2.5l-.94 2.06-2.06.94zm10 10l.94 2.06.94-2.06 2.06-.94-2.06-.94-.94-2.06-.94 2.06-2.06.94z\"/><path d=\"M17.41 7.96l-1.37-1.37c-.4-.4-.92-.59-1.43-.59-.52 0-1.04.2-1.43.59L10.3 9.45l-7.72 7.72c-.78.78-.78 2.05 0 2.83L4 21.41c.39.39.9.59 1.41.59.51 0 1.02-.2 1.41-.59l7.78-7.78 2.81-2.81c.8-.78.8-2.07 0-2.86zM5.41 20L4 18.59l7.72-7.72 1.47 1.35L5.41 20z\"/>\n",
              "  </svg>\n",
              "      </button>\n",
              "      \n",
              "  <style>\n",
              "    .colab-df-container {\n",
              "      display:flex;\n",
              "      flex-wrap:wrap;\n",
              "      gap: 12px;\n",
              "    }\n",
              "\n",
              "    .colab-df-convert {\n",
              "      background-color: #E8F0FE;\n",
              "      border: none;\n",
              "      border-radius: 50%;\n",
              "      cursor: pointer;\n",
              "      display: none;\n",
              "      fill: #1967D2;\n",
              "      height: 32px;\n",
              "      padding: 0 0 0 0;\n",
              "      width: 32px;\n",
              "    }\n",
              "\n",
              "    .colab-df-convert:hover {\n",
              "      background-color: #E2EBFA;\n",
              "      box-shadow: 0px 1px 2px rgba(60, 64, 67, 0.3), 0px 1px 3px 1px rgba(60, 64, 67, 0.15);\n",
              "      fill: #174EA6;\n",
              "    }\n",
              "\n",
              "    [theme=dark] .colab-df-convert {\n",
              "      background-color: #3B4455;\n",
              "      fill: #D2E3FC;\n",
              "    }\n",
              "\n",
              "    [theme=dark] .colab-df-convert:hover {\n",
              "      background-color: #434B5C;\n",
              "      box-shadow: 0px 1px 3px 1px rgba(0, 0, 0, 0.15);\n",
              "      filter: drop-shadow(0px 1px 2px rgba(0, 0, 0, 0.3));\n",
              "      fill: #FFFFFF;\n",
              "    }\n",
              "  </style>\n",
              "\n",
              "      <script>\n",
              "        const buttonEl =\n",
              "          document.querySelector('#df-54548cf3-9db5-42df-8f4f-a6320a99a976 button.colab-df-convert');\n",
              "        buttonEl.style.display =\n",
              "          google.colab.kernel.accessAllowed ? 'block' : 'none';\n",
              "\n",
              "        async function convertToInteractive(key) {\n",
              "          const element = document.querySelector('#df-54548cf3-9db5-42df-8f4f-a6320a99a976');\n",
              "          const dataTable =\n",
              "            await google.colab.kernel.invokeFunction('convertToInteractive',\n",
              "                                                     [key], {});\n",
              "          if (!dataTable) return;\n",
              "\n",
              "          const docLinkHtml = 'Like what you see? Visit the ' +\n",
              "            '<a target=\"_blank\" href=https://colab.research.google.com/notebooks/data_table.ipynb>data table notebook</a>'\n",
              "            + ' to learn more about interactive tables.';\n",
              "          element.innerHTML = '';\n",
              "          dataTable['output_type'] = 'display_data';\n",
              "          await google.colab.output.renderOutput(dataTable, element);\n",
              "          const docLink = document.createElement('div');\n",
              "          docLink.innerHTML = docLinkHtml;\n",
              "          element.appendChild(docLink);\n",
              "        }\n",
              "      </script>\n",
              "    </div>\n",
              "  </div>\n",
              "  "
            ]
          },
          "metadata": {},
          "execution_count": 13
        }
      ],
      "source": [
        "dfsentiment2"
      ]
    },
    {
      "cell_type": "code",
      "execution_count": 14,
      "metadata": {
        "colab": {
          "base_uri": "https://localhost:8080/"
        },
        "id": "BiupWJCm7dV0",
        "outputId": "47069cd6-399c-4b56-f432-23d454097ec9"
      },
      "outputs": [
        {
          "output_type": "execute_result",
          "data": {
            "text/plain": [
              "3536"
            ]
          },
          "metadata": {},
          "execution_count": 14
        }
      ],
      "source": [
        "dfsentiment.Sentences.apply(lambda x: len(x)).sum()"
      ]
    },
    {
      "cell_type": "code",
      "execution_count": 15,
      "metadata": {
        "colab": {
          "base_uri": "https://localhost:8080/"
        },
        "id": "25FyFBk_7dV0",
        "outputId": "06c74863-aaed-4a92-d1f7-5679208f8860"
      },
      "outputs": [
        {
          "output_type": "stream",
          "name": "stderr",
          "text": [
            "[nltk_data] Downloading package vader_lexicon to /root/nltk_data...\n"
          ]
        }
      ],
      "source": [
        "from nltk.sentiment.vader import SentimentIntensityAnalyzer\n",
        "\n",
        "import nltk\n",
        "nltk.download('vader_lexicon')\n",
        "\n",
        "sid=nltk.sentiment.vader.SentimentIntensityAnalyzer()"
      ]
    },
    {
      "cell_type": "code",
      "execution_count": 16,
      "metadata": {
        "colab": {
          "base_uri": "https://localhost:8080/"
        },
        "id": "G5M4uY2t7dV0",
        "outputId": "c0b870e6-09a0-423d-c51b-b13f5b544f54"
      },
      "outputs": [
        {
          "output_type": "execute_result",
          "data": {
            "text/plain": [
              "BookNumber\n",
              "1   -0.018707\n",
              "2    0.069727\n",
              "3   -0.040799\n",
              "4    0.013179\n",
              "5    0.015234\n",
              "Name: CompoundScore, dtype: float64"
            ]
          },
          "metadata": {},
          "execution_count": 16
        }
      ],
      "source": [
        "# Get intensity scores per sentence\n",
        "dfsentiment2['Score']=dfsentiment2.Sentence.apply(lambda x: sid.polarity_scores(x))\n",
        "\n",
        "dfsentiment2['CompoundScore']=dfsentiment2.Score.apply(lambda x: x.get(\"compound\"))\n",
        "dfsentiment2['PositiveScore']=dfsentiment2.Score.apply(lambda x: x.get(\"positive\"))\n",
        "dfsentiment2['NegativeScore']=dfsentiment2.Score.apply(lambda x: x.get(\"negative\"))\n",
        "dfsentiment2['NeutralScore']=dfsentiment2.Score.apply(lambda x: x.get(\"neutral\"))\n",
        "\n",
        "dfsentiment2 = dfsentiment2.drop([\"Score\"], axis=1)\n",
        "\n",
        "dfsentiment2['PositiveFlag'] = dfsentiment2.CompoundScore.apply(lambda x: 1 if x >= 0.05 else 0)\n",
        "dfsentiment2['NegativeFlag'] = dfsentiment2.CompoundScore.apply(lambda x: 1 if x <= -0.05 else 0)\n",
        "dfsentiment2['NeutralFlag'] = dfsentiment2.CompoundScore.apply(lambda x: 1 if x < 0.05 and x > -0.05 else 0)\n",
        "\n",
        "# Confirm scores are present and flag is functional\n",
        "dfsentiment2.head(20)\n",
        "\n",
        "dfsentiment2.iloc[3000].Sentence\n",
        "\n",
        "dfsentiment2.groupby('BookNumber').mean()['CompoundScore']"
      ]
    },
    {
      "cell_type": "code",
      "execution_count": 17,
      "metadata": {
        "colab": {
          "base_uri": "https://localhost:8080/"
        },
        "id": "Jt7scrCq7dV1",
        "outputId": "6173d356-3547-4533-d970-e4d0097d9839"
      },
      "outputs": [
        {
          "output_type": "stream",
          "name": "stdout",
          "text": [
            "There are 1157 positive sentences, 1100 negative sentences, and 1279 neutral sentences\n",
            "This is a total of 3536 sentences\n"
          ]
        }
      ],
      "source": [
        "print('There are', dfsentiment2['PositiveFlag'].sum(), \"positive sentences,\", \\\n",
        "      dfsentiment2['NegativeFlag'].sum(), \"negative sentences, and\", \\\n",
        "      dfsentiment2['NeutralFlag'].sum(), \"neutral sentences\")\n",
        "print('This is a total of', \\\n",
        "      dfsentiment2['PositiveFlag'].sum()+dfsentiment2['NegativeFlag'].sum()+dfsentiment2['NeutralFlag'].sum(), \"sentences\")"
      ]
    },
    {
      "cell_type": "code",
      "execution_count": 18,
      "metadata": {
        "colab": {
          "base_uri": "https://localhost:8080/",
          "height": 933
        },
        "id": "DB1SfFYb7dV1",
        "outputId": "a0c73e91-6559-4631-d86c-01122a8c1700"
      },
      "outputs": [
        {
          "output_type": "stream",
          "name": "stderr",
          "text": [
            "/usr/local/lib/python3.8/dist-packages/pandas/plotting/_matplotlib/__init__.py:71: UserWarning: To output multiple subplots, the figure containing the passed axes is being cleared\n",
            "  plot_obj.generate()\n"
          ]
        },
        {
          "output_type": "display_data",
          "data": {
            "text/plain": [
              "<Figure size 1080x1080 with 5 Axes>"
            ],
            "image/png": "[encoded data removed]"
          },
          "metadata": {
            "needs_background": "light"
          }
        }
      ],
      "source": [
        "# How does the sentiment change during each chapter of each book over time?\n",
        "\n",
        "def Titles(x):\n",
        "    if x == 1:\n",
        "        return \"1 - Mitra-bheda: The Separation of Friends\"\n",
        "    if x == 2:\n",
        "        return \"2 - Mitra-labha: The Gaining of Friends\"\n",
        "    if x == 3:\n",
        "        return \"3 - Kakolukiyam: War and Peace\"\n",
        "    if x == 4:\n",
        "        return \"4 - Labdhapranasam: Loss of Gains\"\n",
        "    if x == 5:\n",
        "        return \"5 - Aparaiksitakarakam: Ill-Considered Actions\"\n",
        "\n",
        "dfsentiment2['BookTitle']=dfsentiment2.BookNumber.apply(lambda x: Titles(x))\n",
        "\n",
        "colorsList = ['#DC8458', '#950702', '#8E067D', '#2E8C44', '#395196', '#60A619','#ECA10A']\n",
        "ColorMap = matplotlib.colors.ListedColormap(colorsList)\n",
        "\n",
        "# plot data\n",
        "fig, ax = plt.subplots(figsize=(15,15))\n",
        "# use unstack()\n",
        "dfsentiment2.groupby(['Chapter','BookTitle']).mean()['CompoundScore'].unstack().plot(ax=ax, subplots=True, ylim=(-0.25, 0.25), colormap=ColorMap)\n",
        "plt.style.use('ggplot')\n",
        "ax.set_ylabel('Compound Sentiment Score')\n",
        "\n",
        "[ax.legend(loc=1) for ax in plt.gcf().axes]\n",
        "\n",
        "plt.savefig('PanchatantraTimeplot.png')\n"
      ]
    },
    {
      "cell_type": "markdown",
      "metadata": {
        "id": "yDe8wWse7dV2"
      },
      "source": [
        "# Part 2"
      ]
    },
    {
      "cell_type": "code",
      "execution_count": 19,
      "metadata": {
        "colab": {
          "base_uri": "https://localhost:8080/",
          "height": 424
        },
        "id": "n4546x697dV2",
        "outputId": "b120f755-5987-4bee-8896-d7e9ebc55d89"
      },
      "outputs": [
        {
          "output_type": "execute_result",
          "data": {
            "text/plain": [
              "                             Title  Chapter  \\\n",
              "0        The Separation of Friends        1   \n",
              "1         The Monkey and the Wedge        2   \n",
              "2          The Jackal and the Drum        3   \n",
              "3  The Fall and Rise of a Merchant        4   \n",
              "4  The Foolish Sage and the Jackal        5   \n",
              "\n",
              "                                               Story  \\\n",
              "0  Long ago in a village in South India, there li...   \n",
              "1  Once a merchant began building a temple in his...   \n",
              "2  A hungry jackal ended up at an abandoned battl...   \n",
              "3  Once, there lived a wealthy merchant named Dan...   \n",
              "4  There lived a sage named Deva Sharma in a mona...   \n",
              "\n",
              "                                 Strategy  BookNumber  \\\n",
              "0  Mitra-bheda: The Separation of Friends           1   \n",
              "1  Mitra-bheda: The Separation of Friends           1   \n",
              "2  Mitra-bheda: The Separation of Friends           1   \n",
              "3  Mitra-bheda: The Separation of Friends           1   \n",
              "4  Mitra-bheda: The Separation of Friends           1   \n",
              "\n",
              "                                       WordCountText  \\\n",
              "0  [long, ago, in, a, village, in, south, india, ...   \n",
              "1  [once, a, merchant, began, building, a, temple...   \n",
              "2  [a, hungry, jackal, ended, up, at, an, abandon...   \n",
              "3  [once, there, lived, a, wealthy, merchant, nam...   \n",
              "4  [there, lived, a, sage, named, deva, sharma, i...   \n",
              "\n",
              "                                       WordCloudText  WordCount  \n",
              "0  [long, ago, village, south, india, lived, merc...        359  \n",
              "1  [merchant, began, building, temple, garden, ma...        679  \n",
              "2  [hungry, jackal, ended, abandoned, battlefield...        762  \n",
              "3  [lived, wealthy, merchant, named, dantila, cit...        884  \n",
              "4  [lived, sage, named, deva, sharma, monastry, s...        896  "
            ],
            "text/html": [
              "\n",
              "  <div id=\"df-415fbfdc-4056-454e-bedb-71ef5378c1ad\">\n",
              "    <div class=\"colab-df-container\">\n",
              "      <div>\n",
              "<style scoped>\n",
              "    .dataframe tbody tr th:only-of-type {\n",
              "        vertical-align: middle;\n",
              "    }\n",
              "\n",
              "    .dataframe tbody tr th {\n",
              "        vertical-align: top;\n",
              "    }\n",
              "\n",
              "    .dataframe thead th {\n",
              "        text-align: right;\n",
              "    }\n",
              "</style>\n",
              "<table border=\"1\" class=\"dataframe\">\n",
              "  <thead>\n",
              "    <tr style=\"text-align: right;\">\n",
              "      <th></th>\n",
              "      <th>Title</th>\n",
              "      <th>Chapter</th>\n",
              "      <th>Story</th>\n",
              "      <th>Strategy</th>\n",
              "      <th>BookNumber</th>\n",
              "      <th>WordCountText</th>\n",
              "      <th>WordCloudText</th>\n",
              "      <th>WordCount</th>\n",
              "    </tr>\n",
              "  </thead>\n",
              "  <tbody>\n",
              "    <tr>\n",
              "      <th>0</th>\n",
              "      <td>The Separation of Friends</td>\n",
              "      <td>1</td>\n",
              "      <td>Long ago in a village in South India, there li...</td>\n",
              "      <td>Mitra-bheda: The Separation of Friends</td>\n",
              "      <td>1</td>\n",
              "      <td>[long, ago, in, a, village, in, south, india, ...</td>\n",
              "      <td>[long, ago, village, south, india, lived, merc...</td>\n",
              "      <td>359</td>\n",
              "    </tr>\n",
              "    <tr>\n",
              "      <th>1</th>\n",
              "      <td>The Monkey and the Wedge</td>\n",
              "      <td>2</td>\n",
              "      <td>Once a merchant began building a temple in his...</td>\n",
              "      <td>Mitra-bheda: The Separation of Friends</td>\n",
              "      <td>1</td>\n",
              "      <td>[once, a, merchant, began, building, a, temple...</td>\n",
              "      <td>[merchant, began, building, temple, garden, ma...</td>\n",
              "      <td>679</td>\n",
              "    </tr>\n",
              "    <tr>\n",
              "      <th>2</th>\n",
              "      <td>The Jackal and the Drum</td>\n",
              "      <td>3</td>\n",
              "      <td>A hungry jackal ended up at an abandoned battl...</td>\n",
              "      <td>Mitra-bheda: The Separation of Friends</td>\n",
              "      <td>1</td>\n",
              "      <td>[a, hungry, jackal, ended, up, at, an, abandon...</td>\n",
              "      <td>[hungry, jackal, ended, abandoned, battlefield...</td>\n",
              "      <td>762</td>\n",
              "    </tr>\n",
              "    <tr>\n",
              "      <th>3</th>\n",
              "      <td>The Fall and Rise of a Merchant</td>\n",
              "      <td>4</td>\n",
              "      <td>Once, there lived a wealthy merchant named Dan...</td>\n",
              "      <td>Mitra-bheda: The Separation of Friends</td>\n",
              "      <td>1</td>\n",
              "      <td>[once, there, lived, a, wealthy, merchant, nam...</td>\n",
              "      <td>[lived, wealthy, merchant, named, dantila, cit...</td>\n",
              "      <td>884</td>\n",
              "    </tr>\n",
              "    <tr>\n",
              "      <th>4</th>\n",
              "      <td>The Foolish Sage and the Jackal</td>\n",
              "      <td>5</td>\n",
              "      <td>There lived a sage named Deva Sharma in a mona...</td>\n",
              "      <td>Mitra-bheda: The Separation of Friends</td>\n",
              "      <td>1</td>\n",
              "      <td>[there, lived, a, sage, named, deva, sharma, i...</td>\n",
              "      <td>[lived, sage, named, deva, sharma, monastry, s...</td>\n",
              "      <td>896</td>\n",
              "    </tr>\n",
              "  </tbody>\n",
              "</table>\n",
              "</div>\n",
              "      <button class=\"colab-df-convert\" onclick=\"convertToInteractive('df-415fbfdc-4056-454e-bedb-71ef5378c1ad')\"\n",
              "              title=\"Convert this dataframe to an interactive table.\"\n",
              "              style=\"display:none;\">\n",
              "        \n",
              "  <svg xmlns=\"http://www.w3.org/2000/svg\" height=\"24px\"viewBox=\"0 0 24 24\"\n",
              "       width=\"24px\">\n",
              "    <path d=\"M0 0h24v24H0V0z\" fill=\"none\"/>\n",
              "    <path d=\"M18.56 5.44l.94 2.06.94-2.06 2.06-.94-2.06-.94-.94-2.06-.94 2.06-2.06.94zm-11 1L8.5 8.5l.94-2.06 2.06-.94-2.06-.94L8.5 2.5l-.94 2.06-2.06.94zm10 10l.94 2.06.94-2.06 2.06-.94-2.06-.94-.94-2.06-.94 2.06-2.06.94z\"/><path d=\"M17.41 7.96l-1.37-1.37c-.4-.4-.92-.59-1.43-.59-.52 0-1.04.2-1.43.59L10.3 9.45l-7.72 7.72c-.78.78-.78 2.05 0 2.83L4 21.41c.39.39.9.59 1.41.59.51 0 1.02-.2 1.41-.59l7.78-7.78 2.81-2.81c.8-.78.8-2.07 0-2.86zM5.41 20L4 18.59l7.72-7.72 1.47 1.35L5.41 20z\"/>\n",
              "  </svg>\n",
              "      </button>\n",
              "      \n",
              "  <style>\n",
              "    .colab-df-container {\n",
              "      display:flex;\n",
              "      flex-wrap:wrap;\n",
              "      gap: 12px;\n",
              "    }\n",
              "\n",
              "    .colab-df-convert {\n",
              "      background-color: #E8F0FE;\n",
              "      border: none;\n",
              "      border-radius: 50%;\n",
              "      cursor: pointer;\n",
              "      display: none;\n",
              "      fill: #1967D2;\n",
              "      height: 32px;\n",
              "      padding: 0 0 0 0;\n",
              "      width: 32px;\n",
              "    }\n",
              "\n",
              "    .colab-df-convert:hover {\n",
              "      background-color: #E2EBFA;\n",
              "      box-shadow: 0px 1px 2px rgba(60, 64, 67, 0.3), 0px 1px 3px 1px rgba(60, 64, 67, 0.15);\n",
              "      fill: #174EA6;\n",
              "    }\n",
              "\n",
              "    [theme=dark] .colab-df-convert {\n",
              "      background-color: #3B4455;\n",
              "      fill: #D2E3FC;\n",
              "    }\n",
              "\n",
              "    [theme=dark] .colab-df-convert:hover {\n",
              "      background-color: #434B5C;\n",
              "      box-shadow: 0px 1px 3px 1px rgba(0, 0, 0, 0.15);\n",
              "      filter: drop-shadow(0px 1px 2px rgba(0, 0, 0, 0.3));\n",
              "      fill: #FFFFFF;\n",
              "    }\n",
              "  </style>\n",
              "\n",
              "      <script>\n",
              "        const buttonEl =\n",
              "          document.querySelector('#df-415fbfdc-4056-454e-bedb-71ef5378c1ad button.colab-df-convert');\n",
              "        buttonEl.style.display =\n",
              "          google.colab.kernel.accessAllowed ? 'block' : 'none';\n",
              "\n",
              "        async function convertToInteractive(key) {\n",
              "          const element = document.querySelector('#df-415fbfdc-4056-454e-bedb-71ef5378c1ad');\n",
              "          const dataTable =\n",
              "            await google.colab.kernel.invokeFunction('convertToInteractive',\n",
              "                                                     [key], {});\n",
              "          if (!dataTable) return;\n",
              "\n",
              "          const docLinkHtml = 'Like what you see? Visit the ' +\n",
              "            '<a target=\"_blank\" href=https://colab.research.google.com/notebooks/data_table.ipynb>data table notebook</a>'\n",
              "            + ' to learn more about interactive tables.';\n",
              "          element.innerHTML = '';\n",
              "          dataTable['output_type'] = 'display_data';\n",
              "          await google.colab.output.renderOutput(dataTable, element);\n",
              "          const docLink = document.createElement('div');\n",
              "          docLink.innerHTML = docLinkHtml;\n",
              "          element.appendChild(docLink);\n",
              "        }\n",
              "      </script>\n",
              "    </div>\n",
              "  </div>\n",
              "  "
            ]
          },
          "metadata": {},
          "execution_count": 19
        }
      ],
      "source": [
        "df.head()"
      ]
    },
    {
      "cell_type": "code",
      "execution_count": 20,
      "metadata": {
        "colab": {
          "base_uri": "https://localhost:8080/"
        },
        "id": "FJ8-x00V7dV2",
        "outputId": "a5893821-efce-4883-cd1b-5201b9ba39e4"
      },
      "outputs": [
        {
          "output_type": "execute_result",
          "data": {
            "text/plain": [
              "Mitra-bheda: The Separation of Friends       22\n",
              "Apariksitakarakam: Ill-Considered Actions    15\n",
              "Kakolukiyam: War and Peace                   13\n",
              "Labdhapranasam: Loss of Gains                12\n",
              "Mitra-labha: The Gaining of Friends           9\n",
              "Name: Strategy, dtype: int64"
            ]
          },
          "metadata": {},
          "execution_count": 20
        }
      ],
      "source": [
        "df.Strategy.value_counts()"
      ]
    },
    {
      "cell_type": "code",
      "execution_count": 21,
      "metadata": {
        "id": "wuOLjiG47dV3"
      },
      "outputs": [],
      "source": [
        "plt.rcParams[\"figure.figsize\"] = (15,10)\n",
        "matplotlib.rc('xtick', labelsize=15) \n",
        "matplotlib.rc('ytick', labelsize=15) "
      ]
    },
    {
      "cell_type": "code",
      "execution_count": 22,
      "metadata": {
        "colab": {
          "base_uri": "https://localhost:8080/",
          "height": 633
        },
        "id": "gc8-v82X7dV3",
        "outputId": "e97dbc3e-839a-4c11-8ce1-c551cff4c4ed"
      },
      "outputs": [
        {
          "output_type": "display_data",
          "data": {
            "text/plain": [
              "<Figure size 1080x720 with 1 Axes>"
            ],
            "image/png": "[encoded data removed]"
          },
          "metadata": {}
        }
      ],
      "source": [
        "BookTitles=[\"Mitra-bheda\", \"Mitra-labha\", \n",
        "            \"Kakolukiyam\", \"Labdhapranasam\",\n",
        "           \"Apariksitakarakam\"]\n",
        "\n",
        "x = df.groupby(['BookNumber'])['WordCount'].sum().reset_index()['BookNumber']\n",
        "y = df.groupby(['BookNumber'])['WordCount'].sum().reset_index()['WordCount']\n",
        "\n",
        "plt.style.use('ggplot')\n",
        "barchart=plt.bar(x, y, color=['green'])\n",
        "plt.xlabel(\"Strategy\", fontsize = 15)\n",
        "plt.ylabel(\"Word Count\", fontsize = 15)\n",
        "plt.title(\"Total Number of Words in Each Panchatantra Book\")\n",
        "plt.xticks(x, BookTitles)\n",
        "\n",
        "    \n",
        "for bar in barchart:\n",
        "    height = bar.get_height()\n",
        "    plt.text(bar.get_x() + bar.get_width()/2.0, height, '%d' % int(height), ha='center', va='bottom', fontsize = 15)\n",
        "\n",
        "\n",
        "plt.savefig('Panchatantratotalwords.png')"
      ]
    },
    {
      "cell_type": "code",
      "execution_count": 22,
      "metadata": {
        "id": "qfiIh9Ek7dV3"
      },
      "outputs": [],
      "source": []
    }
  ],
  "metadata": {
    "kernelspec": {
      "display_name": "Python 3 (ipykernel)",
      "language": "python",
      "name": "python3"
    },
    "language_info": {
      "codemirror_mode": {
        "name": "ipython",
        "version": 3
      },
      "file_extension": ".py",
      "mimetype": "text/x-python",
      "name": "python",
      "nbconvert_exporter": "python",
      "pygments_lexer": "ipython3",
      "version": "3.9.7"
    },
    "colab": {
      "provenance": [],
      "include_colab_link": true
    }
  },
  "nbformat": 4,
  "nbformat_minor": 0
}